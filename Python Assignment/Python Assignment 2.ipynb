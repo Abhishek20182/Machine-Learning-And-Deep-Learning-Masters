{
 "cells": [
  {
   "cell_type": "markdown",
   "metadata": {},
   "source": [
    "**1. Create the below pattern using nested for loop in Python**\n",
    "$$\n",
    "\\begin{align}\n",
    "&*\\\\\n",
    "&**\\\\\n",
    "&***\\\\\n",
    "&****\\\\\n",
    "&*****\\\\\n",
    "&****\\\\\n",
    "&***\\\\\n",
    "&**\\\\\n",
    "&*\n",
    "\\end{align}\n",
    "$$"
   ]
  },
  {
   "cell_type": "code",
   "execution_count": 11,
   "metadata": {},
   "outputs": [
    {
     "name": "stdout",
     "output_type": "stream",
     "text": [
      "*\n",
      "**\n",
      "***\n",
      "****\n",
      "*****\n",
      "****\n",
      "***\n",
      "**\n",
      "*\n"
     ]
    }
   ],
   "source": [
    "num = 5\n",
    "for star in range(1,10): #we take range upto 10 because we have to print 9 lines\n",
    "    if star <= 5: #Stars of less than and equal to 5 have to print in increasing order of numbers \n",
    "        print('*'*star)\n",
    "    if star>5: #Stars less than 5 have to print in decreasing order of numbers\n",
    "        print('*'*(num-1))\n",
    "        num -= 1"
   ]
  },
  {
   "cell_type": "markdown",
   "metadata": {},
   "source": [
    "**2. Write a Python program to reverse a word after accepting the input from the user.**\n",
    "<p>\n",
    "    <strong>Input word:</strong> ineuron <br>\n",
    "    <strong>Output word:</strong> norueni\n",
    "</p>"
   ]
  },
  {
   "cell_type": "code",
   "execution_count": 17,
   "metadata": {},
   "outputs": [
    {
     "name": "stdout",
     "output_type": "stream",
     "text": [
      "Enter the Word: ineuron\n",
      "norueni"
     ]
    }
   ],
   "source": [
    "user_input = input(\"Enter the Word: \")\n",
    "#Let say ineuron has 7 alphabet so, the loop is starting from 6 to -1 at step of -1 \n",
    "#so loops runs 7 times from 6 to -1(excluded) and print in reverse order\n",
    "for char in range(len(user_input)-1,-1,-1): \n",
    "    print(user_input[char], end='')"
   ]
  }
 ],
 "metadata": {
  "kernelspec": {
   "display_name": "Python 3",
   "language": "python",
   "name": "python3"
  },
  "language_info": {
   "codemirror_mode": {
    "name": "ipython",
    "version": 3
   },
   "file_extension": ".py",
   "mimetype": "text/x-python",
   "name": "python",
   "nbconvert_exporter": "python",
   "pygments_lexer": "ipython3",
   "version": "3.8.5"
  }
 },
 "nbformat": 4,
 "nbformat_minor": 4
}
